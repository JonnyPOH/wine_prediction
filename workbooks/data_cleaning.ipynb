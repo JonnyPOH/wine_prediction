{
 "cells": [
  {
   "cell_type": "code",
   "execution_count": 1,
   "metadata": {},
   "outputs": [
    {
     "name": "stdout",
     "output_type": "stream",
     "text": [
      "<class 'pandas.core.frame.DataFrame'>\n",
      "Index: 1000 entries, 87131 to 31482\n",
      "Data columns (total 5 columns):\n",
      " #   Column       Non-Null Count  Dtype  \n",
      "---  ------       --------------  -----  \n",
      " 0   country      1000 non-null   object \n",
      " 1   description  1000 non-null   object \n",
      " 2   points       1000 non-null   int64  \n",
      " 3   price        1000 non-null   float64\n",
      " 4   variety      1000 non-null   object \n",
      "dtypes: float64(1), int64(1), object(3)\n",
      "memory usage: 46.9+ KB\n"
     ]
    }
   ],
   "source": [
    "import pandas as pd\n",
    "import os\n",
    "\n",
    "# Load the dataset\n",
    "os.chdir(\"..\")\n",
    "data_path = 'datasets'\n",
    "df = pd.read_csv(os.path.join(data_path, 'wine_quality_1000.csv'), index_col=0)\n",
    "\n",
    "# Display basic information about the dataset\n",
    "df.info()"
   ]
  },
  {
   "cell_type": "code",
   "execution_count": 2,
   "metadata": {},
   "outputs": [
    {
     "data": {
      "text/html": [
       "<div>\n",
       "<style scoped>\n",
       "    .dataframe tbody tr th:only-of-type {\n",
       "        vertical-align: middle;\n",
       "    }\n",
       "\n",
       "    .dataframe tbody tr th {\n",
       "        vertical-align: top;\n",
       "    }\n",
       "\n",
       "    .dataframe thead th {\n",
       "        text-align: right;\n",
       "    }\n",
       "</style>\n",
       "<table border=\"1\" class=\"dataframe\">\n",
       "  <thead>\n",
       "    <tr style=\"text-align: right;\">\n",
       "      <th></th>\n",
       "      <th>country</th>\n",
       "      <th>description</th>\n",
       "      <th>points</th>\n",
       "      <th>price</th>\n",
       "      <th>variety</th>\n",
       "    </tr>\n",
       "  </thead>\n",
       "  <tbody>\n",
       "    <tr>\n",
       "      <th>87131</th>\n",
       "      <td>US</td>\n",
       "      <td>Very good Dry Creek Zin, robust and dry and sp...</td>\n",
       "      <td>89</td>\n",
       "      <td>25.0</td>\n",
       "      <td>Zinfandel</td>\n",
       "    </tr>\n",
       "    <tr>\n",
       "      <th>57952</th>\n",
       "      <td>France</td>\n",
       "      <td>A very herbaceous character makes this wine se...</td>\n",
       "      <td>84</td>\n",
       "      <td>20.0</td>\n",
       "      <td>Bordeaux-style White Blend</td>\n",
       "    </tr>\n",
       "    <tr>\n",
       "      <th>96046</th>\n",
       "      <td>US</td>\n",
       "      <td>A little simple and easy, but there's a wealth...</td>\n",
       "      <td>84</td>\n",
       "      <td>19.0</td>\n",
       "      <td>Rosé</td>\n",
       "    </tr>\n",
       "    <tr>\n",
       "      <th>31920</th>\n",
       "      <td>US</td>\n",
       "      <td>From a dry-farmed vineyard and treated to wild...</td>\n",
       "      <td>88</td>\n",
       "      <td>38.0</td>\n",
       "      <td>Petite Sirah</td>\n",
       "    </tr>\n",
       "    <tr>\n",
       "      <th>6091</th>\n",
       "      <td>US</td>\n",
       "      <td>From a site near Annapolis, this wine shows a ...</td>\n",
       "      <td>91</td>\n",
       "      <td>62.0</td>\n",
       "      <td>Pinot Noir</td>\n",
       "    </tr>\n",
       "  </tbody>\n",
       "</table>\n",
       "</div>"
      ],
      "text/plain": [
       "      country                                        description  points  \\\n",
       "87131      US  Very good Dry Creek Zin, robust and dry and sp...      89   \n",
       "57952  France  A very herbaceous character makes this wine se...      84   \n",
       "96046      US  A little simple and easy, but there's a wealth...      84   \n",
       "31920      US  From a dry-farmed vineyard and treated to wild...      88   \n",
       "6091       US  From a site near Annapolis, this wine shows a ...      91   \n",
       "\n",
       "       price                     variety  \n",
       "87131   25.0                   Zinfandel  \n",
       "57952   20.0  Bordeaux-style White Blend  \n",
       "96046   19.0                        Rosé  \n",
       "31920   38.0                Petite Sirah  \n",
       "6091    62.0                  Pinot Noir  "
      ]
     },
     "execution_count": 2,
     "metadata": {},
     "output_type": "execute_result"
    }
   ],
   "source": [
    "df.head(5)"
   ]
  },
  {
   "cell_type": "code",
   "execution_count": 3,
   "metadata": {},
   "outputs": [
    {
     "data": {
      "text/plain": [
       "country        0\n",
       "description    0\n",
       "points         0\n",
       "price          0\n",
       "variety        0\n",
       "dtype: int64"
      ]
     },
     "execution_count": 3,
     "metadata": {},
     "output_type": "execute_result"
    }
   ],
   "source": [
    "df.isnull().sum()"
   ]
  },
  {
   "cell_type": "code",
   "execution_count": 4,
   "metadata": {},
   "outputs": [
    {
     "data": {
      "text/plain": [
       "2"
      ]
     },
     "execution_count": 4,
     "metadata": {},
     "output_type": "execute_result"
    }
   ],
   "source": [
    "duplicates = df.duplicated().sum()\n",
    "duplicates"
   ]
  },
  {
   "cell_type": "code",
   "execution_count": 5,
   "metadata": {},
   "outputs": [],
   "source": [
    "df_cleaned = df.drop_duplicates()"
   ]
  },
  {
   "cell_type": "code",
   "execution_count": 6,
   "metadata": {},
   "outputs": [
    {
     "name": "stderr",
     "output_type": "stream",
     "text": [
      "[nltk_data] Downloading package punkt to /home/jonnyoh/nltk_data...\n",
      "[nltk_data]   Package punkt is already up-to-date!\n",
      "[nltk_data] Downloading package stopwords to\n",
      "[nltk_data]     /home/jonnyoh/nltk_data...\n",
      "[nltk_data]   Package stopwords is already up-to-date!\n",
      "[nltk_data] Downloading package wordnet to /home/jonnyoh/nltk_data...\n",
      "[nltk_data]   Package wordnet is already up-to-date!\n"
     ]
    },
    {
     "data": {
      "text/plain": [
       "True"
      ]
     },
     "execution_count": 6,
     "metadata": {},
     "output_type": "execute_result"
    }
   ],
   "source": [
    "import nltk\n",
    "nltk.download(\"punkt\")  # Required for word_tokenize\n",
    "nltk.download(\"stopwords\")  # Required for stopwords\n",
    "nltk.download(\"wordnet\")  # Required for Lemmatization\n"
   ]
  },
  {
   "cell_type": "code",
   "execution_count": 11,
   "metadata": {},
   "outputs": [],
   "source": [
    "custom_stopwords = set([\n",
    "    \"wine\", \"flavor\", \"taste\", \"aroma\",  # Example wine-related words\n",
    "    \"bottle\", \"vintage\", \"palate\"       # You can add more words here\n",
    "])"
   ]
  },
  {
   "cell_type": "code",
   "execution_count": 12,
   "metadata": {},
   "outputs": [
    {
     "name": "stderr",
     "output_type": "stream",
     "text": [
      "/tmp/ipykernel_377692/454949685.py:21: SettingWithCopyWarning: \n",
      "A value is trying to be set on a copy of a slice from a DataFrame.\n",
      "Try using .loc[row_indexer,col_indexer] = value instead\n",
      "\n",
      "See the caveats in the documentation: https://pandas.pydata.org/pandas-docs/stable/user_guide/indexing.html#returning-a-view-versus-a-copy\n",
      "  df_cleaned['description_clean'] = df_cleaned.description.apply(clean)\n"
     ]
    },
    {
     "data": {
      "text/html": [
       "<div>\n",
       "<style scoped>\n",
       "    .dataframe tbody tr th:only-of-type {\n",
       "        vertical-align: middle;\n",
       "    }\n",
       "\n",
       "    .dataframe tbody tr th {\n",
       "        vertical-align: top;\n",
       "    }\n",
       "\n",
       "    .dataframe thead th {\n",
       "        text-align: right;\n",
       "    }\n",
       "</style>\n",
       "<table border=\"1\" class=\"dataframe\">\n",
       "  <thead>\n",
       "    <tr style=\"text-align: right;\">\n",
       "      <th></th>\n",
       "      <th>country</th>\n",
       "      <th>description</th>\n",
       "      <th>points</th>\n",
       "      <th>price</th>\n",
       "      <th>variety</th>\n",
       "      <th>description_clean</th>\n",
       "    </tr>\n",
       "  </thead>\n",
       "  <tbody>\n",
       "    <tr>\n",
       "      <th>87131</th>\n",
       "      <td>US</td>\n",
       "      <td>Very good Dry Creek Zin, robust and dry and sp...</td>\n",
       "      <td>89</td>\n",
       "      <td>25.0</td>\n",
       "      <td>Zinfandel</td>\n",
       "      <td>good dry creek zin robust dry spicy really get...</td>\n",
       "    </tr>\n",
       "    <tr>\n",
       "      <th>57952</th>\n",
       "      <td>France</td>\n",
       "      <td>A very herbaceous character makes this wine se...</td>\n",
       "      <td>84</td>\n",
       "      <td>20.0</td>\n",
       "      <td>Bordeaux-style White Blend</td>\n",
       "      <td>herbaceous character make seem rather thin sof...</td>\n",
       "    </tr>\n",
       "    <tr>\n",
       "      <th>96046</th>\n",
       "      <td>US</td>\n",
       "      <td>A little simple and easy, but there's a wealth...</td>\n",
       "      <td>84</td>\n",
       "      <td>19.0</td>\n",
       "      <td>Rosé</td>\n",
       "      <td>little simple easy wealth raspberry strawberry...</td>\n",
       "    </tr>\n",
       "    <tr>\n",
       "      <th>31920</th>\n",
       "      <td>US</td>\n",
       "      <td>From a dry-farmed vineyard and treated to wild...</td>\n",
       "      <td>88</td>\n",
       "      <td>38.0</td>\n",
       "      <td>Petite Sirah</td>\n",
       "      <td>dry farmed vineyard treated wild yeast minimal...</td>\n",
       "    </tr>\n",
       "    <tr>\n",
       "      <th>6091</th>\n",
       "      <td>US</td>\n",
       "      <td>From a site near Annapolis, this wine shows a ...</td>\n",
       "      <td>91</td>\n",
       "      <td>62.0</td>\n",
       "      <td>Pinot Noir</td>\n",
       "      <td>site near annapolis show preponderance dark gr...</td>\n",
       "    </tr>\n",
       "  </tbody>\n",
       "</table>\n",
       "</div>"
      ],
      "text/plain": [
       "      country                                        description  points  \\\n",
       "87131      US  Very good Dry Creek Zin, robust and dry and sp...      89   \n",
       "57952  France  A very herbaceous character makes this wine se...      84   \n",
       "96046      US  A little simple and easy, but there's a wealth...      84   \n",
       "31920      US  From a dry-farmed vineyard and treated to wild...      88   \n",
       "6091       US  From a site near Annapolis, this wine shows a ...      91   \n",
       "\n",
       "       price                     variety  \\\n",
       "87131   25.0                   Zinfandel   \n",
       "57952   20.0  Bordeaux-style White Blend   \n",
       "96046   19.0                        Rosé   \n",
       "31920   38.0                Petite Sirah   \n",
       "6091    62.0                  Pinot Noir   \n",
       "\n",
       "                                       description_clean  \n",
       "87131  good dry creek zin robust dry spicy really get...  \n",
       "57952  herbaceous character make seem rather thin sof...  \n",
       "96046  little simple easy wealth raspberry strawberry...  \n",
       "31920  dry farmed vineyard treated wild yeast minimal...  \n",
       "6091   site near annapolis show preponderance dark gr...  "
      ]
     },
     "execution_count": 12,
     "metadata": {},
     "output_type": "execute_result"
    }
   ],
   "source": [
    "from nltk.corpus import stopwords\n",
    "import string\n",
    "from nltk.stem.wordnet import WordNetLemmatizer\n",
    "from nltk import word_tokenize\n",
    "\n",
    "def clean (text):\n",
    "    for punctuation in string.punctuation:\n",
    "        text = text.replace(punctuation, ' ') # Remove Punctuation\n",
    "    lowercased = text.lower() # Lower Case\n",
    "    tokenized = word_tokenize(lowercased) # Tokenize\n",
    "    words_only = [word for word in tokenized if word.isalpha()] # Remove numbers\n",
    "    stop_words = set(stopwords.words('english')) # Make stopword list\n",
    "    stop_words.update(custom_stopwords)\n",
    "    without_stopwords = [word for word in words_only if not word in stop_words] # Remove Stop Words\n",
    "    lemma=WordNetLemmatizer() # Initiate Lemmatizer\n",
    "    lemmatized = [lemma.lemmatize(word) for word in without_stopwords] # Lemmatize\n",
    "    cleaned = ' '.join(lemmatized) # Join back to a string\n",
    "    return cleaned\n",
    "\n",
    "# Apply to all texts\n",
    "df_cleaned['description_clean'] = df_cleaned.description.apply(clean)\n",
    "\n",
    "df_cleaned.head()"
   ]
  },
  {
   "cell_type": "code",
   "execution_count": 9,
   "metadata": {},
   "outputs": [],
   "source": [
    "df_cleaned.to_csv('datasets/wine_quality_cleaned.csv', index=False)"
   ]
  },
  {
   "cell_type": "code",
   "execution_count": null,
   "metadata": {},
   "outputs": [],
   "source": []
  }
 ],
 "metadata": {
  "kernelspec": {
   "display_name": "3.12.4",
   "language": "python",
   "name": "python3"
  },
  "language_info": {
   "codemirror_mode": {
    "name": "ipython",
    "version": 3
   },
   "file_extension": ".py",
   "mimetype": "text/x-python",
   "name": "python",
   "nbconvert_exporter": "python",
   "pygments_lexer": "ipython3",
   "version": "3.12.4"
  }
 },
 "nbformat": 4,
 "nbformat_minor": 2
}
